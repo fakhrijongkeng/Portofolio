{
  "cells": [
    {
      "cell_type": "markdown",
      "metadata": {
        "id": "fKADPWcFKlj3"
      },
      "source": [
        "# **1. Import Library**"
      ]
    },
    {
      "cell_type": "markdown",
      "metadata": {
        "id": "LgA3ERnVn84N"
      },
      "source": [
        "Pada tahap ini, Anda perlu mengimpor beberapa pustaka (library) Python yang dibutuhkan untuk analisis data dan pembangunan model machine learning."
      ]
    },
    {
      "cell_type": "code",
      "execution_count": null,
      "metadata": {
        "id": "BlmvjLY9M4Yj"
      },
      "outputs": [],
      "source": [
        "import pandas as pd\n",
        "import numpy as np\n",
        "import matplotlib.pyplot as plt\n",
        "import seaborn as sns\n",
        "import time\n",
        "from sklearn.linear_model import LogisticRegression, LogisticRegressionCV\n",
        "from sklearn.model_selection import GridSearchCV\n",
        "from sklearn.neighbors import KNeighborsClassifier\n",
        "from sklearn.tree import DecisionTreeClassifier\n",
        "from sklearn.svm import SVC\n",
        "from sklearn.naive_bayes import GaussianNB\n",
        "from xgboost import XGBClassifier\n",
        "from sklearn.metrics import confusion_matrix, classification_report\n",
        "from sklearn.metrics import accuracy_score,precision_score,recall_score,f1_score,ConfusionMatrixDisplay,classification_report\n",
        "from sklearn.ensemble import RandomForestClassifier\n",
        "from sklearn import metrics"
      ]
    },
    {
      "cell_type": "markdown",
      "metadata": {
        "id": "f3YIEnAFKrKL"
      },
      "source": [
        "# **2. Memuat Dataset dari Hasil Clustering**"
      ]
    },
    {
      "cell_type": "markdown",
      "metadata": {
        "id": "Ey3ItwTen_7E"
      },
      "source": [
        "Memuat dataset hasil clustering dari file CSV ke dalam variabel DataFrame."
      ]
    },
    {
      "cell_type": "code",
      "execution_count": null,
      "metadata": {
        "colab": {
          "base_uri": "https://localhost:8080/",
          "height": 293
        },
        "id": "GHCGNTyrM5fS",
        "outputId": "f421bafc-5bf3-49d1-ea42-c06bd79eadf0"
      },
      "outputs": [
        {
          "data": {
            "application/vnd.google.colaboratory.intrinsic+json": {
              "summary": "{\n  \"name\": \"data\",\n  \"rows\": 40451,\n  \"fields\": [\n    {\n      \"column\": \"timestamp\",\n      \"properties\": {\n        \"dtype\": \"object\",\n        \"num_unique_values\": 156,\n        \"samples\": [\n          \"2022-10-28\",\n          \"2022-09-16\",\n          \"2022-10-10\"\n        ],\n        \"semantic_type\": \"\",\n        \"description\": \"\"\n      }\n    },\n    {\n      \"column\": \"code\",\n      \"properties\": {\n        \"dtype\": \"category\",\n        \"num_unique_values\": 389,\n        \"samples\": [\n          \"PTSP\",\n          \"WINR\",\n          \"LUCK\"\n        ],\n        \"semantic_type\": \"\",\n        \"description\": \"\"\n      }\n    },\n    {\n      \"column\": \"Name\",\n      \"properties\": {\n        \"dtype\": \"category\",\n        \"num_unique_values\": 389,\n        \"samples\": [\n          \"Pioneerindo Gourmet Internatio\",\n          \"Winner Nusantara Jaya Tbk.\",\n          \"Sentral Mitra Informatika Tbk.\"\n        ],\n        \"semantic_type\": \"\",\n        \"description\": \"\"\n      }\n    },\n    {\n      \"column\": \"open\",\n      \"properties\": {\n        \"dtype\": \"number\",\n        \"std\": 593.93747145909,\n        \"min\": 23.0,\n        \"max\": 2930.0,\n        \"num_unique_values\": 727,\n        \"samples\": [\n          82.0,\n          1860.0,\n          426.0\n        ],\n        \"semantic_type\": \"\",\n        \"description\": \"\"\n      }\n    },\n    {\n      \"column\": \"high\",\n      \"properties\": {\n        \"dtype\": \"number\",\n        \"std\": 599.2733366834779,\n        \"min\": 0.0,\n        \"max\": 2980.0,\n        \"num_unique_values\": 730,\n        \"samples\": [\n          448.0,\n          163.0,\n          106.0\n        ],\n        \"semantic_type\": \"\",\n        \"description\": \"\"\n      }\n    },\n    {\n      \"column\": \"low\",\n      \"properties\": {\n        \"dtype\": \"number\",\n        \"std\": 587.1602029424151,\n        \"min\": 0.0,\n        \"max\": 2900.0,\n        \"num_unique_values\": 723,\n        \"samples\": [\n          69.00000000000006,\n          191.0,\n          1190.0\n        ],\n        \"semantic_type\": \"\",\n        \"description\": \"\"\n      }\n    },\n    {\n      \"column\": \"close\",\n      \"properties\": {\n        \"dtype\": \"number\",\n        \"std\": 593.13119508059,\n        \"min\": 23.0,\n        \"max\": 2940.0,\n        \"num_unique_values\": 729,\n        \"samples\": [\n          282.0,\n          155.0,\n          210.0\n        ],\n        \"semantic_type\": \"\",\n        \"description\": \"\"\n      }\n    },\n    {\n      \"column\": \"DifPriceCurrentage\",\n      \"properties\": {\n        \"dtype\": \"number\",\n        \"std\": 1.8732717279862316,\n        \"min\": -5.523809523809524,\n        \"max\": 4.918032786885246,\n        \"num_unique_values\": 2929,\n        \"samples\": [\n          -0.4166666666666667,\n          3.804347826086957,\n          -1.0282776349614395\n        ],\n        \"semantic_type\": \"\",\n        \"description\": \"\"\n      }\n    },\n    {\n      \"column\": \"DifPricePreviousage\",\n      \"properties\": {\n        \"dtype\": \"number\",\n        \"std\": 1.7581694579810188,\n        \"min\": -5.113636363636364,\n        \"max\": 4.621848739495799,\n        \"num_unique_values\": 2891,\n        \"samples\": [\n          0.5649717514124294,\n          2.8708133971291865,\n          0.8658008658008657\n        ],\n        \"semantic_type\": \"\",\n        \"description\": \"\"\n      }\n    },\n    {\n      \"column\": \"Volatile\",\n      \"properties\": {\n        \"dtype\": \"number\",\n        \"std\": 18.37270343171487,\n        \"min\": 0.0,\n        \"max\": 90.0,\n        \"num_unique_values\": 79,\n        \"samples\": [\n          13.0,\n          80.0,\n          26.0\n        ],\n        \"semantic_type\": \"\",\n        \"description\": \"\"\n      }\n    },\n    {\n      \"column\": \"Sector\",\n      \"properties\": {\n        \"dtype\": \"category\",\n        \"num_unique_values\": 11,\n        \"samples\": [\n          \"Consumer Non-Cyclicals\",\n          \"Consumer Cyclicals\",\n          \"Technology\"\n        ],\n        \"semantic_type\": \"\",\n        \"description\": \"\"\n      }\n    },\n    {\n      \"column\": \"Cluster\",\n      \"properties\": {\n        \"dtype\": \"category\",\n        \"num_unique_values\": 4,\n        \"samples\": [\n          \"Downward-Trend\",\n          \"High-Volatility\",\n          \"Stable-Positive\"\n        ],\n        \"semantic_type\": \"\",\n        \"description\": \"\"\n      }\n    }\n  ]\n}",
              "type": "dataframe",
              "variable_name": "data"
            },
            "text/html": [
              "\n",
              "  <div id=\"df-dc445a89-5c93-4643-bdef-6cb521ec26ed\" class=\"colab-df-container\">\n",
              "    <div>\n",
              "<style scoped>\n",
              "    .dataframe tbody tr th:only-of-type {\n",
              "        vertical-align: middle;\n",
              "    }\n",
              "\n",
              "    .dataframe tbody tr th {\n",
              "        vertical-align: top;\n",
              "    }\n",
              "\n",
              "    .dataframe thead th {\n",
              "        text-align: right;\n",
              "    }\n",
              "</style>\n",
              "<table border=\"1\" class=\"dataframe\">\n",
              "  <thead>\n",
              "    <tr style=\"text-align: right;\">\n",
              "      <th></th>\n",
              "      <th>timestamp</th>\n",
              "      <th>code</th>\n",
              "      <th>Name</th>\n",
              "      <th>open</th>\n",
              "      <th>high</th>\n",
              "      <th>low</th>\n",
              "      <th>close</th>\n",
              "      <th>DifPriceCurrentage</th>\n",
              "      <th>DifPricePreviousage</th>\n",
              "      <th>Volatile</th>\n",
              "      <th>Sector</th>\n",
              "      <th>Cluster</th>\n",
              "    </tr>\n",
              "  </thead>\n",
              "  <tbody>\n",
              "    <tr>\n",
              "      <th>0</th>\n",
              "      <td>2022-06-02</td>\n",
              "      <td>AKKU</td>\n",
              "      <td>Anugerah Kagum Karya Utama Tbk</td>\n",
              "      <td>2720.0</td>\n",
              "      <td>2740.0</td>\n",
              "      <td>2660.0</td>\n",
              "      <td>2680.0</td>\n",
              "      <td>-1.470588</td>\n",
              "      <td>-1.831502</td>\n",
              "      <td>80.0</td>\n",
              "      <td>Consumer Cyclicals</td>\n",
              "      <td>Stable-Positive</td>\n",
              "    </tr>\n",
              "    <tr>\n",
              "      <th>1</th>\n",
              "      <td>2022-06-09</td>\n",
              "      <td>ABMM</td>\n",
              "      <td>ABM Investama Tbk.</td>\n",
              "      <td>276.0</td>\n",
              "      <td>282.0</td>\n",
              "      <td>274.0</td>\n",
              "      <td>278.0</td>\n",
              "      <td>0.724638</td>\n",
              "      <td>0.724638</td>\n",
              "      <td>8.0</td>\n",
              "      <td>Industrials</td>\n",
              "      <td>Downward-Trend</td>\n",
              "    </tr>\n",
              "    <tr>\n",
              "      <th>2</th>\n",
              "      <td>2022-06-10</td>\n",
              "      <td>ABMM</td>\n",
              "      <td>ABM Investama Tbk.</td>\n",
              "      <td>980.0</td>\n",
              "      <td>1000.0</td>\n",
              "      <td>970.0</td>\n",
              "      <td>985.0</td>\n",
              "      <td>0.510204</td>\n",
              "      <td>2.604167</td>\n",
              "      <td>30.0</td>\n",
              "      <td>Industrials</td>\n",
              "      <td>Stable-Positive</td>\n",
              "    </tr>\n",
              "    <tr>\n",
              "      <th>3</th>\n",
              "      <td>2022-06-24</td>\n",
              "      <td>ABMM</td>\n",
              "      <td>ABM Investama Tbk.</td>\n",
              "      <td>860.0</td>\n",
              "      <td>885.0</td>\n",
              "      <td>850.0</td>\n",
              "      <td>850.0</td>\n",
              "      <td>-1.162791</td>\n",
              "      <td>-1.162791</td>\n",
              "      <td>35.0</td>\n",
              "      <td>Industrials</td>\n",
              "      <td>Stable-Positive</td>\n",
              "    </tr>\n",
              "    <tr>\n",
              "      <th>4</th>\n",
              "      <td>2022-06-27</td>\n",
              "      <td>ABMM</td>\n",
              "      <td>ABM Investama Tbk.</td>\n",
              "      <td>765.0</td>\n",
              "      <td>815.0</td>\n",
              "      <td>750.0</td>\n",
              "      <td>775.0</td>\n",
              "      <td>1.307190</td>\n",
              "      <td>-3.726708</td>\n",
              "      <td>65.0</td>\n",
              "      <td>Industrials</td>\n",
              "      <td>Downward-Trend</td>\n",
              "    </tr>\n",
              "  </tbody>\n",
              "</table>\n",
              "</div>\n",
              "    <div class=\"colab-df-buttons\">\n",
              "\n",
              "  <div class=\"colab-df-container\">\n",
              "    <button class=\"colab-df-convert\" onclick=\"convertToInteractive('df-dc445a89-5c93-4643-bdef-6cb521ec26ed')\"\n",
              "            title=\"Convert this dataframe to an interactive table.\"\n",
              "            style=\"display:none;\">\n",
              "\n",
              "  <svg xmlns=\"http://www.w3.org/2000/svg\" height=\"24px\" viewBox=\"0 -960 960 960\">\n",
              "    <path d=\"M120-120v-720h720v720H120Zm60-500h600v-160H180v160Zm220 220h160v-160H400v160Zm0 220h160v-160H400v160ZM180-400h160v-160H180v160Zm440 0h160v-160H620v160ZM180-180h160v-160H180v160Zm440 0h160v-160H620v160Z\"/>\n",
              "  </svg>\n",
              "    </button>\n",
              "\n",
              "  <style>\n",
              "    .colab-df-container {\n",
              "      display:flex;\n",
              "      gap: 12px;\n",
              "    }\n",
              "\n",
              "    .colab-df-convert {\n",
              "      background-color: #E8F0FE;\n",
              "      border: none;\n",
              "      border-radius: 50%;\n",
              "      cursor: pointer;\n",
              "      display: none;\n",
              "      fill: #1967D2;\n",
              "      height: 32px;\n",
              "      padding: 0 0 0 0;\n",
              "      width: 32px;\n",
              "    }\n",
              "\n",
              "    .colab-df-convert:hover {\n",
              "      background-color: #E2EBFA;\n",
              "      box-shadow: 0px 1px 2px rgba(60, 64, 67, 0.3), 0px 1px 3px 1px rgba(60, 64, 67, 0.15);\n",
              "      fill: #174EA6;\n",
              "    }\n",
              "\n",
              "    .colab-df-buttons div {\n",
              "      margin-bottom: 4px;\n",
              "    }\n",
              "\n",
              "    [theme=dark] .colab-df-convert {\n",
              "      background-color: #3B4455;\n",
              "      fill: #D2E3FC;\n",
              "    }\n",
              "\n",
              "    [theme=dark] .colab-df-convert:hover {\n",
              "      background-color: #434B5C;\n",
              "      box-shadow: 0px 1px 3px 1px rgba(0, 0, 0, 0.15);\n",
              "      filter: drop-shadow(0px 1px 2px rgba(0, 0, 0, 0.3));\n",
              "      fill: #FFFFFF;\n",
              "    }\n",
              "  </style>\n",
              "\n",
              "    <script>\n",
              "      const buttonEl =\n",
              "        document.querySelector('#df-dc445a89-5c93-4643-bdef-6cb521ec26ed button.colab-df-convert');\n",
              "      buttonEl.style.display =\n",
              "        google.colab.kernel.accessAllowed ? 'block' : 'none';\n",
              "\n",
              "      async function convertToInteractive(key) {\n",
              "        const element = document.querySelector('#df-dc445a89-5c93-4643-bdef-6cb521ec26ed');\n",
              "        const dataTable =\n",
              "          await google.colab.kernel.invokeFunction('convertToInteractive',\n",
              "                                                    [key], {});\n",
              "        if (!dataTable) return;\n",
              "\n",
              "        const docLinkHtml = 'Like what you see? Visit the ' +\n",
              "          '<a target=\"_blank\" href=https://colab.research.google.com/notebooks/data_table.ipynb>data table notebook</a>'\n",
              "          + ' to learn more about interactive tables.';\n",
              "        element.innerHTML = '';\n",
              "        dataTable['output_type'] = 'display_data';\n",
              "        await google.colab.output.renderOutput(dataTable, element);\n",
              "        const docLink = document.createElement('div');\n",
              "        docLink.innerHTML = docLinkHtml;\n",
              "        element.appendChild(docLink);\n",
              "      }\n",
              "    </script>\n",
              "  </div>\n",
              "\n",
              "\n",
              "<div id=\"df-63dd0e0b-7f9e-4c27-84ed-1521bfdb71d0\">\n",
              "  <button class=\"colab-df-quickchart\" onclick=\"quickchart('df-63dd0e0b-7f9e-4c27-84ed-1521bfdb71d0')\"\n",
              "            title=\"Suggest charts\"\n",
              "            style=\"display:none;\">\n",
              "\n",
              "<svg xmlns=\"http://www.w3.org/2000/svg\" height=\"24px\"viewBox=\"0 0 24 24\"\n",
              "     width=\"24px\">\n",
              "    <g>\n",
              "        <path d=\"M19 3H5c-1.1 0-2 .9-2 2v14c0 1.1.9 2 2 2h14c1.1 0 2-.9 2-2V5c0-1.1-.9-2-2-2zM9 17H7v-7h2v7zm4 0h-2V7h2v10zm4 0h-2v-4h2v4z\"/>\n",
              "    </g>\n",
              "</svg>\n",
              "  </button>\n",
              "\n",
              "<style>\n",
              "  .colab-df-quickchart {\n",
              "      --bg-color: #E8F0FE;\n",
              "      --fill-color: #1967D2;\n",
              "      --hover-bg-color: #E2EBFA;\n",
              "      --hover-fill-color: #174EA6;\n",
              "      --disabled-fill-color: #AAA;\n",
              "      --disabled-bg-color: #DDD;\n",
              "  }\n",
              "\n",
              "  [theme=dark] .colab-df-quickchart {\n",
              "      --bg-color: #3B4455;\n",
              "      --fill-color: #D2E3FC;\n",
              "      --hover-bg-color: #434B5C;\n",
              "      --hover-fill-color: #FFFFFF;\n",
              "      --disabled-bg-color: #3B4455;\n",
              "      --disabled-fill-color: #666;\n",
              "  }\n",
              "\n",
              "  .colab-df-quickchart {\n",
              "    background-color: var(--bg-color);\n",
              "    border: none;\n",
              "    border-radius: 50%;\n",
              "    cursor: pointer;\n",
              "    display: none;\n",
              "    fill: var(--fill-color);\n",
              "    height: 32px;\n",
              "    padding: 0;\n",
              "    width: 32px;\n",
              "  }\n",
              "\n",
              "  .colab-df-quickchart:hover {\n",
              "    background-color: var(--hover-bg-color);\n",
              "    box-shadow: 0 1px 2px rgba(60, 64, 67, 0.3), 0 1px 3px 1px rgba(60, 64, 67, 0.15);\n",
              "    fill: var(--button-hover-fill-color);\n",
              "  }\n",
              "\n",
              "  .colab-df-quickchart-complete:disabled,\n",
              "  .colab-df-quickchart-complete:disabled:hover {\n",
              "    background-color: var(--disabled-bg-color);\n",
              "    fill: var(--disabled-fill-color);\n",
              "    box-shadow: none;\n",
              "  }\n",
              "\n",
              "  .colab-df-spinner {\n",
              "    border: 2px solid var(--fill-color);\n",
              "    border-color: transparent;\n",
              "    border-bottom-color: var(--fill-color);\n",
              "    animation:\n",
              "      spin 1s steps(1) infinite;\n",
              "  }\n",
              "\n",
              "  @keyframes spin {\n",
              "    0% {\n",
              "      border-color: transparent;\n",
              "      border-bottom-color: var(--fill-color);\n",
              "      border-left-color: var(--fill-color);\n",
              "    }\n",
              "    20% {\n",
              "      border-color: transparent;\n",
              "      border-left-color: var(--fill-color);\n",
              "      border-top-color: var(--fill-color);\n",
              "    }\n",
              "    30% {\n",
              "      border-color: transparent;\n",
              "      border-left-color: var(--fill-color);\n",
              "      border-top-color: var(--fill-color);\n",
              "      border-right-color: var(--fill-color);\n",
              "    }\n",
              "    40% {\n",
              "      border-color: transparent;\n",
              "      border-right-color: var(--fill-color);\n",
              "      border-top-color: var(--fill-color);\n",
              "    }\n",
              "    60% {\n",
              "      border-color: transparent;\n",
              "      border-right-color: var(--fill-color);\n",
              "    }\n",
              "    80% {\n",
              "      border-color: transparent;\n",
              "      border-right-color: var(--fill-color);\n",
              "      border-bottom-color: var(--fill-color);\n",
              "    }\n",
              "    90% {\n",
              "      border-color: transparent;\n",
              "      border-bottom-color: var(--fill-color);\n",
              "    }\n",
              "  }\n",
              "</style>\n",
              "\n",
              "  <script>\n",
              "    async function quickchart(key) {\n",
              "      const quickchartButtonEl =\n",
              "        document.querySelector('#' + key + ' button');\n",
              "      quickchartButtonEl.disabled = true;  // To prevent multiple clicks.\n",
              "      quickchartButtonEl.classList.add('colab-df-spinner');\n",
              "      try {\n",
              "        const charts = await google.colab.kernel.invokeFunction(\n",
              "            'suggestCharts', [key], {});\n",
              "      } catch (error) {\n",
              "        console.error('Error during call to suggestCharts:', error);\n",
              "      }\n",
              "      quickchartButtonEl.classList.remove('colab-df-spinner');\n",
              "      quickchartButtonEl.classList.add('colab-df-quickchart-complete');\n",
              "    }\n",
              "    (() => {\n",
              "      let quickchartButtonEl =\n",
              "        document.querySelector('#df-63dd0e0b-7f9e-4c27-84ed-1521bfdb71d0 button');\n",
              "      quickchartButtonEl.style.display =\n",
              "        google.colab.kernel.accessAllowed ? 'block' : 'none';\n",
              "    })();\n",
              "  </script>\n",
              "</div>\n",
              "\n",
              "    </div>\n",
              "  </div>\n"
            ],
            "text/plain": [
              "    timestamp  code                            Name    open    high     low  \\\n",
              "0  2022-06-02  AKKU  Anugerah Kagum Karya Utama Tbk  2720.0  2740.0  2660.0   \n",
              "1  2022-06-09  ABMM              ABM Investama Tbk.   276.0   282.0   274.0   \n",
              "2  2022-06-10  ABMM              ABM Investama Tbk.   980.0  1000.0   970.0   \n",
              "3  2022-06-24  ABMM              ABM Investama Tbk.   860.0   885.0   850.0   \n",
              "4  2022-06-27  ABMM              ABM Investama Tbk.   765.0   815.0   750.0   \n",
              "\n",
              "    close  DifPriceCurrentage  DifPricePreviousage  Volatile  \\\n",
              "0  2680.0           -1.470588            -1.831502      80.0   \n",
              "1   278.0            0.724638             0.724638       8.0   \n",
              "2   985.0            0.510204             2.604167      30.0   \n",
              "3   850.0           -1.162791            -1.162791      35.0   \n",
              "4   775.0            1.307190            -3.726708      65.0   \n",
              "\n",
              "               Sector          Cluster  \n",
              "0  Consumer Cyclicals  Stable-Positive  \n",
              "1         Industrials   Downward-Trend  \n",
              "2         Industrials  Stable-Positive  \n",
              "3         Industrials  Stable-Positive  \n",
              "4         Industrials   Downward-Trend  "
            ]
          },
          "execution_count": 2,
          "metadata": {},
          "output_type": "execute_result"
        }
      ],
      "source": [
        "data = pd.read_csv('/content/IHSG_market_clustered.csv')\n",
        "data.head()"
      ]
    },
    {
      "cell_type": "code",
      "execution_count": null,
      "metadata": {
        "colab": {
          "base_uri": "https://localhost:8080/",
          "height": 206
        },
        "id": "WEaE_4wdGXmf",
        "outputId": "2b670150-0740-4793-b5c7-98cf0c7601bf"
      },
      "outputs": [
        {
          "data": {
            "application/vnd.google.colaboratory.intrinsic+json": {
              "summary": "{\n  \"name\": \"df\",\n  \"rows\": 40451,\n  \"fields\": [\n    {\n      \"column\": \"open\",\n      \"properties\": {\n        \"dtype\": \"number\",\n        \"std\": 593.93747145909,\n        \"min\": 23.0,\n        \"max\": 2930.0,\n        \"num_unique_values\": 727,\n        \"samples\": [\n          82.0,\n          1860.0,\n          426.0\n        ],\n        \"semantic_type\": \"\",\n        \"description\": \"\"\n      }\n    },\n    {\n      \"column\": \"high\",\n      \"properties\": {\n        \"dtype\": \"number\",\n        \"std\": 599.2733366834779,\n        \"min\": 0.0,\n        \"max\": 2980.0,\n        \"num_unique_values\": 730,\n        \"samples\": [\n          448.0,\n          163.0,\n          106.0\n        ],\n        \"semantic_type\": \"\",\n        \"description\": \"\"\n      }\n    },\n    {\n      \"column\": \"low\",\n      \"properties\": {\n        \"dtype\": \"number\",\n        \"std\": 587.1602029424151,\n        \"min\": 0.0,\n        \"max\": 2900.0,\n        \"num_unique_values\": 723,\n        \"samples\": [\n          69.00000000000006,\n          191.0,\n          1190.0\n        ],\n        \"semantic_type\": \"\",\n        \"description\": \"\"\n      }\n    },\n    {\n      \"column\": \"close\",\n      \"properties\": {\n        \"dtype\": \"number\",\n        \"std\": 593.13119508059,\n        \"min\": 23.0,\n        \"max\": 2940.0,\n        \"num_unique_values\": 729,\n        \"samples\": [\n          282.0,\n          155.0,\n          210.0\n        ],\n        \"semantic_type\": \"\",\n        \"description\": \"\"\n      }\n    },\n    {\n      \"column\": \"DifPriceCurrentage\",\n      \"properties\": {\n        \"dtype\": \"number\",\n        \"std\": 1.8732717279862316,\n        \"min\": -5.523809523809524,\n        \"max\": 4.918032786885246,\n        \"num_unique_values\": 2929,\n        \"samples\": [\n          -0.4166666666666667,\n          3.804347826086957,\n          -1.0282776349614395\n        ],\n        \"semantic_type\": \"\",\n        \"description\": \"\"\n      }\n    },\n    {\n      \"column\": \"DifPricePreviousage\",\n      \"properties\": {\n        \"dtype\": \"number\",\n        \"std\": 1.7581694579810188,\n        \"min\": -5.113636363636364,\n        \"max\": 4.621848739495799,\n        \"num_unique_values\": 2891,\n        \"samples\": [\n          0.5649717514124294,\n          2.8708133971291865,\n          0.8658008658008657\n        ],\n        \"semantic_type\": \"\",\n        \"description\": \"\"\n      }\n    },\n    {\n      \"column\": \"Volatile\",\n      \"properties\": {\n        \"dtype\": \"number\",\n        \"std\": 18.37270343171487,\n        \"min\": 0.0,\n        \"max\": 90.0,\n        \"num_unique_values\": 79,\n        \"samples\": [\n          13.0,\n          80.0,\n          26.0\n        ],\n        \"semantic_type\": \"\",\n        \"description\": \"\"\n      }\n    },\n    {\n      \"column\": \"Sector\",\n      \"properties\": {\n        \"dtype\": \"category\",\n        \"num_unique_values\": 11,\n        \"samples\": [\n          \"Consumer Non-Cyclicals\",\n          \"Consumer Cyclicals\",\n          \"Technology\"\n        ],\n        \"semantic_type\": \"\",\n        \"description\": \"\"\n      }\n    },\n    {\n      \"column\": \"Cluster\",\n      \"properties\": {\n        \"dtype\": \"category\",\n        \"num_unique_values\": 4,\n        \"samples\": [\n          \"Downward-Trend\",\n          \"High-Volatility\",\n          \"Stable-Positive\"\n        ],\n        \"semantic_type\": \"\",\n        \"description\": \"\"\n      }\n    }\n  ]\n}",
              "type": "dataframe",
              "variable_name": "df"
            },
            "text/html": [
              "\n",
              "  <div id=\"df-36e995e9-7fda-4a77-8e17-459b6bc4456e\" class=\"colab-df-container\">\n",
              "    <div>\n",
              "<style scoped>\n",
              "    .dataframe tbody tr th:only-of-type {\n",
              "        vertical-align: middle;\n",
              "    }\n",
              "\n",
              "    .dataframe tbody tr th {\n",
              "        vertical-align: top;\n",
              "    }\n",
              "\n",
              "    .dataframe thead th {\n",
              "        text-align: right;\n",
              "    }\n",
              "</style>\n",
              "<table border=\"1\" class=\"dataframe\">\n",
              "  <thead>\n",
              "    <tr style=\"text-align: right;\">\n",
              "      <th></th>\n",
              "      <th>open</th>\n",
              "      <th>high</th>\n",
              "      <th>low</th>\n",
              "      <th>close</th>\n",
              "      <th>DifPriceCurrentage</th>\n",
              "      <th>DifPricePreviousage</th>\n",
              "      <th>Volatile</th>\n",
              "      <th>Sector</th>\n",
              "      <th>Cluster</th>\n",
              "    </tr>\n",
              "  </thead>\n",
              "  <tbody>\n",
              "    <tr>\n",
              "      <th>0</th>\n",
              "      <td>2720.0</td>\n",
              "      <td>2740.0</td>\n",
              "      <td>2660.0</td>\n",
              "      <td>2680.0</td>\n",
              "      <td>-1.470588</td>\n",
              "      <td>-1.831502</td>\n",
              "      <td>80.0</td>\n",
              "      <td>Consumer Cyclicals</td>\n",
              "      <td>Stable-Positive</td>\n",
              "    </tr>\n",
              "    <tr>\n",
              "      <th>1</th>\n",
              "      <td>276.0</td>\n",
              "      <td>282.0</td>\n",
              "      <td>274.0</td>\n",
              "      <td>278.0</td>\n",
              "      <td>0.724638</td>\n",
              "      <td>0.724638</td>\n",
              "      <td>8.0</td>\n",
              "      <td>Industrials</td>\n",
              "      <td>Downward-Trend</td>\n",
              "    </tr>\n",
              "    <tr>\n",
              "      <th>2</th>\n",
              "      <td>980.0</td>\n",
              "      <td>1000.0</td>\n",
              "      <td>970.0</td>\n",
              "      <td>985.0</td>\n",
              "      <td>0.510204</td>\n",
              "      <td>2.604167</td>\n",
              "      <td>30.0</td>\n",
              "      <td>Industrials</td>\n",
              "      <td>Stable-Positive</td>\n",
              "    </tr>\n",
              "    <tr>\n",
              "      <th>3</th>\n",
              "      <td>860.0</td>\n",
              "      <td>885.0</td>\n",
              "      <td>850.0</td>\n",
              "      <td>850.0</td>\n",
              "      <td>-1.162791</td>\n",
              "      <td>-1.162791</td>\n",
              "      <td>35.0</td>\n",
              "      <td>Industrials</td>\n",
              "      <td>Stable-Positive</td>\n",
              "    </tr>\n",
              "    <tr>\n",
              "      <th>4</th>\n",
              "      <td>765.0</td>\n",
              "      <td>815.0</td>\n",
              "      <td>750.0</td>\n",
              "      <td>775.0</td>\n",
              "      <td>1.307190</td>\n",
              "      <td>-3.726708</td>\n",
              "      <td>65.0</td>\n",
              "      <td>Industrials</td>\n",
              "      <td>Downward-Trend</td>\n",
              "    </tr>\n",
              "  </tbody>\n",
              "</table>\n",
              "</div>\n",
              "    <div class=\"colab-df-buttons\">\n",
              "\n",
              "  <div class=\"colab-df-container\">\n",
              "    <button class=\"colab-df-convert\" onclick=\"convertToInteractive('df-36e995e9-7fda-4a77-8e17-459b6bc4456e')\"\n",
              "            title=\"Convert this dataframe to an interactive table.\"\n",
              "            style=\"display:none;\">\n",
              "\n",
              "  <svg xmlns=\"http://www.w3.org/2000/svg\" height=\"24px\" viewBox=\"0 -960 960 960\">\n",
              "    <path d=\"M120-120v-720h720v720H120Zm60-500h600v-160H180v160Zm220 220h160v-160H400v160Zm0 220h160v-160H400v160ZM180-400h160v-160H180v160Zm440 0h160v-160H620v160ZM180-180h160v-160H180v160Zm440 0h160v-160H620v160Z\"/>\n",
              "  </svg>\n",
              "    </button>\n",
              "\n",
              "  <style>\n",
              "    .colab-df-container {\n",
              "      display:flex;\n",
              "      gap: 12px;\n",
              "    }\n",
              "\n",
              "    .colab-df-convert {\n",
              "      background-color: #E8F0FE;\n",
              "      border: none;\n",
              "      border-radius: 50%;\n",
              "      cursor: pointer;\n",
              "      display: none;\n",
              "      fill: #1967D2;\n",
              "      height: 32px;\n",
              "      padding: 0 0 0 0;\n",
              "      width: 32px;\n",
              "    }\n",
              "\n",
              "    .colab-df-convert:hover {\n",
              "      background-color: #E2EBFA;\n",
              "      box-shadow: 0px 1px 2px rgba(60, 64, 67, 0.3), 0px 1px 3px 1px rgba(60, 64, 67, 0.15);\n",
              "      fill: #174EA6;\n",
              "    }\n",
              "\n",
              "    .colab-df-buttons div {\n",
              "      margin-bottom: 4px;\n",
              "    }\n",
              "\n",
              "    [theme=dark] .colab-df-convert {\n",
              "      background-color: #3B4455;\n",
              "      fill: #D2E3FC;\n",
              "    }\n",
              "\n",
              "    [theme=dark] .colab-df-convert:hover {\n",
              "      background-color: #434B5C;\n",
              "      box-shadow: 0px 1px 3px 1px rgba(0, 0, 0, 0.15);\n",
              "      filter: drop-shadow(0px 1px 2px rgba(0, 0, 0, 0.3));\n",
              "      fill: #FFFFFF;\n",
              "    }\n",
              "  </style>\n",
              "\n",
              "    <script>\n",
              "      const buttonEl =\n",
              "        document.querySelector('#df-36e995e9-7fda-4a77-8e17-459b6bc4456e button.colab-df-convert');\n",
              "      buttonEl.style.display =\n",
              "        google.colab.kernel.accessAllowed ? 'block' : 'none';\n",
              "\n",
              "      async function convertToInteractive(key) {\n",
              "        const element = document.querySelector('#df-36e995e9-7fda-4a77-8e17-459b6bc4456e');\n",
              "        const dataTable =\n",
              "          await google.colab.kernel.invokeFunction('convertToInteractive',\n",
              "                                                    [key], {});\n",
              "        if (!dataTable) return;\n",
              "\n",
              "        const docLinkHtml = 'Like what you see? Visit the ' +\n",
              "          '<a target=\"_blank\" href=https://colab.research.google.com/notebooks/data_table.ipynb>data table notebook</a>'\n",
              "          + ' to learn more about interactive tables.';\n",
              "        element.innerHTML = '';\n",
              "        dataTable['output_type'] = 'display_data';\n",
              "        await google.colab.output.renderOutput(dataTable, element);\n",
              "        const docLink = document.createElement('div');\n",
              "        docLink.innerHTML = docLinkHtml;\n",
              "        element.appendChild(docLink);\n",
              "      }\n",
              "    </script>\n",
              "  </div>\n",
              "\n",
              "\n",
              "<div id=\"df-9f96dd26-eba0-44e9-a6f7-457d0b9d80fd\">\n",
              "  <button class=\"colab-df-quickchart\" onclick=\"quickchart('df-9f96dd26-eba0-44e9-a6f7-457d0b9d80fd')\"\n",
              "            title=\"Suggest charts\"\n",
              "            style=\"display:none;\">\n",
              "\n",
              "<svg xmlns=\"http://www.w3.org/2000/svg\" height=\"24px\"viewBox=\"0 0 24 24\"\n",
              "     width=\"24px\">\n",
              "    <g>\n",
              "        <path d=\"M19 3H5c-1.1 0-2 .9-2 2v14c0 1.1.9 2 2 2h14c1.1 0 2-.9 2-2V5c0-1.1-.9-2-2-2zM9 17H7v-7h2v7zm4 0h-2V7h2v10zm4 0h-2v-4h2v4z\"/>\n",
              "    </g>\n",
              "</svg>\n",
              "  </button>\n",
              "\n",
              "<style>\n",
              "  .colab-df-quickchart {\n",
              "      --bg-color: #E8F0FE;\n",
              "      --fill-color: #1967D2;\n",
              "      --hover-bg-color: #E2EBFA;\n",
              "      --hover-fill-color: #174EA6;\n",
              "      --disabled-fill-color: #AAA;\n",
              "      --disabled-bg-color: #DDD;\n",
              "  }\n",
              "\n",
              "  [theme=dark] .colab-df-quickchart {\n",
              "      --bg-color: #3B4455;\n",
              "      --fill-color: #D2E3FC;\n",
              "      --hover-bg-color: #434B5C;\n",
              "      --hover-fill-color: #FFFFFF;\n",
              "      --disabled-bg-color: #3B4455;\n",
              "      --disabled-fill-color: #666;\n",
              "  }\n",
              "\n",
              "  .colab-df-quickchart {\n",
              "    background-color: var(--bg-color);\n",
              "    border: none;\n",
              "    border-radius: 50%;\n",
              "    cursor: pointer;\n",
              "    display: none;\n",
              "    fill: var(--fill-color);\n",
              "    height: 32px;\n",
              "    padding: 0;\n",
              "    width: 32px;\n",
              "  }\n",
              "\n",
              "  .colab-df-quickchart:hover {\n",
              "    background-color: var(--hover-bg-color);\n",
              "    box-shadow: 0 1px 2px rgba(60, 64, 67, 0.3), 0 1px 3px 1px rgba(60, 64, 67, 0.15);\n",
              "    fill: var(--button-hover-fill-color);\n",
              "  }\n",
              "\n",
              "  .colab-df-quickchart-complete:disabled,\n",
              "  .colab-df-quickchart-complete:disabled:hover {\n",
              "    background-color: var(--disabled-bg-color);\n",
              "    fill: var(--disabled-fill-color);\n",
              "    box-shadow: none;\n",
              "  }\n",
              "\n",
              "  .colab-df-spinner {\n",
              "    border: 2px solid var(--fill-color);\n",
              "    border-color: transparent;\n",
              "    border-bottom-color: var(--fill-color);\n",
              "    animation:\n",
              "      spin 1s steps(1) infinite;\n",
              "  }\n",
              "\n",
              "  @keyframes spin {\n",
              "    0% {\n",
              "      border-color: transparent;\n",
              "      border-bottom-color: var(--fill-color);\n",
              "      border-left-color: var(--fill-color);\n",
              "    }\n",
              "    20% {\n",
              "      border-color: transparent;\n",
              "      border-left-color: var(--fill-color);\n",
              "      border-top-color: var(--fill-color);\n",
              "    }\n",
              "    30% {\n",
              "      border-color: transparent;\n",
              "      border-left-color: var(--fill-color);\n",
              "      border-top-color: var(--fill-color);\n",
              "      border-right-color: var(--fill-color);\n",
              "    }\n",
              "    40% {\n",
              "      border-color: transparent;\n",
              "      border-right-color: var(--fill-color);\n",
              "      border-top-color: var(--fill-color);\n",
              "    }\n",
              "    60% {\n",
              "      border-color: transparent;\n",
              "      border-right-color: var(--fill-color);\n",
              "    }\n",
              "    80% {\n",
              "      border-color: transparent;\n",
              "      border-right-color: var(--fill-color);\n",
              "      border-bottom-color: var(--fill-color);\n",
              "    }\n",
              "    90% {\n",
              "      border-color: transparent;\n",
              "      border-bottom-color: var(--fill-color);\n",
              "    }\n",
              "  }\n",
              "</style>\n",
              "\n",
              "  <script>\n",
              "    async function quickchart(key) {\n",
              "      const quickchartButtonEl =\n",
              "        document.querySelector('#' + key + ' button');\n",
              "      quickchartButtonEl.disabled = true;  // To prevent multiple clicks.\n",
              "      quickchartButtonEl.classList.add('colab-df-spinner');\n",
              "      try {\n",
              "        const charts = await google.colab.kernel.invokeFunction(\n",
              "            'suggestCharts', [key], {});\n",
              "      } catch (error) {\n",
              "        console.error('Error during call to suggestCharts:', error);\n",
              "      }\n",
              "      quickchartButtonEl.classList.remove('colab-df-spinner');\n",
              "      quickchartButtonEl.classList.add('colab-df-quickchart-complete');\n",
              "    }\n",
              "    (() => {\n",
              "      let quickchartButtonEl =\n",
              "        document.querySelector('#df-9f96dd26-eba0-44e9-a6f7-457d0b9d80fd button');\n",
              "      quickchartButtonEl.style.display =\n",
              "        google.colab.kernel.accessAllowed ? 'block' : 'none';\n",
              "    })();\n",
              "  </script>\n",
              "</div>\n",
              "\n",
              "    </div>\n",
              "  </div>\n"
            ],
            "text/plain": [
              "     open    high     low   close  DifPriceCurrentage  DifPricePreviousage  \\\n",
              "0  2720.0  2740.0  2660.0  2680.0           -1.470588            -1.831502   \n",
              "1   276.0   282.0   274.0   278.0            0.724638             0.724638   \n",
              "2   980.0  1000.0   970.0   985.0            0.510204             2.604167   \n",
              "3   860.0   885.0   850.0   850.0           -1.162791            -1.162791   \n",
              "4   765.0   815.0   750.0   775.0            1.307190            -3.726708   \n",
              "\n",
              "   Volatile              Sector          Cluster  \n",
              "0      80.0  Consumer Cyclicals  Stable-Positive  \n",
              "1       8.0         Industrials   Downward-Trend  \n",
              "2      30.0         Industrials  Stable-Positive  \n",
              "3      35.0         Industrials  Stable-Positive  \n",
              "4      65.0         Industrials   Downward-Trend  "
            ]
          },
          "execution_count": 3,
          "metadata": {},
          "output_type": "execute_result"
        }
      ],
      "source": [
        "# Menghapus columns yang tidak relevan\n",
        "\n",
        "df = data.drop(columns=['timestamp', 'code', 'Name'])\n",
        "df.head()"
      ]
    },
    {
      "cell_type": "code",
      "execution_count": null,
      "metadata": {
        "colab": {
          "base_uri": "https://localhost:8080/",
          "height": 366
        },
        "id": "l28Mez_uE-FX",
        "outputId": "eabb60b7-d5d1-43c2-fb26-6ae1958a9cbb"
      },
      "outputs": [
        {
          "data": {
            "text/html": [
              "<div>\n",
              "<style scoped>\n",
              "    .dataframe tbody tr th:only-of-type {\n",
              "        vertical-align: middle;\n",
              "    }\n",
              "\n",
              "    .dataframe tbody tr th {\n",
              "        vertical-align: top;\n",
              "    }\n",
              "\n",
              "    .dataframe thead th {\n",
              "        text-align: right;\n",
              "    }\n",
              "</style>\n",
              "<table border=\"1\" class=\"dataframe\">\n",
              "  <thead>\n",
              "    <tr style=\"text-align: right;\">\n",
              "      <th></th>\n",
              "      <th>0</th>\n",
              "    </tr>\n",
              "  </thead>\n",
              "  <tbody>\n",
              "    <tr>\n",
              "      <th>open</th>\n",
              "      <td>0</td>\n",
              "    </tr>\n",
              "    <tr>\n",
              "      <th>high</th>\n",
              "      <td>0</td>\n",
              "    </tr>\n",
              "    <tr>\n",
              "      <th>low</th>\n",
              "      <td>0</td>\n",
              "    </tr>\n",
              "    <tr>\n",
              "      <th>close</th>\n",
              "      <td>0</td>\n",
              "    </tr>\n",
              "    <tr>\n",
              "      <th>DifPriceCurrentage</th>\n",
              "      <td>0</td>\n",
              "    </tr>\n",
              "    <tr>\n",
              "      <th>DifPricePreviousage</th>\n",
              "      <td>0</td>\n",
              "    </tr>\n",
              "    <tr>\n",
              "      <th>Volatile</th>\n",
              "      <td>0</td>\n",
              "    </tr>\n",
              "    <tr>\n",
              "      <th>Sector</th>\n",
              "      <td>0</td>\n",
              "    </tr>\n",
              "    <tr>\n",
              "      <th>Cluster</th>\n",
              "      <td>0</td>\n",
              "    </tr>\n",
              "  </tbody>\n",
              "</table>\n",
              "</div><br><label><b>dtype:</b> int64</label>"
            ],
            "text/plain": [
              "open                   0\n",
              "high                   0\n",
              "low                    0\n",
              "close                  0\n",
              "DifPriceCurrentage     0\n",
              "DifPricePreviousage    0\n",
              "Volatile               0\n",
              "Sector                 0\n",
              "Cluster                0\n",
              "dtype: int64"
            ]
          },
          "execution_count": 4,
          "metadata": {},
          "output_type": "execute_result"
        }
      ],
      "source": [
        "df.dropna(inplace=True)\n",
        "df.isna().sum()"
      ]
    },
    {
      "cell_type": "markdown",
      "metadata": {
        "id": "KkPem5eWL2UP"
      },
      "source": [
        "# **3. Data Splitting**"
      ]
    },
    {
      "cell_type": "markdown",
      "metadata": {
        "id": "YYj1rl_JNI9Y"
      },
      "source": [
        "Tahap Data Splitting bertujuan untuk memisahkan dataset menjadi dua bagian: data latih (training set) dan data uji (test set)."
      ]
    },
    {
      "cell_type": "code",
      "execution_count": null,
      "metadata": {
        "id": "kDOLXeHIDhk9"
      },
      "outputs": [],
      "source": [
        "# memisahkan feature dan label\n",
        "X = df.drop('Cluster', axis=1)\n",
        "y = df['Cluster']"
      ]
    },
    {
      "cell_type": "markdown",
      "metadata": {
        "id": "RCdpXy-pHXQg"
      },
      "source": [
        "**Melakukan preprocessing data Standarisasi dan Encoding**"
      ]
    },
    {
      "cell_type": "code",
      "execution_count": null,
      "metadata": {
        "colab": {
          "base_uri": "https://localhost:8080/",
          "height": 206
        },
        "id": "YdpHXnlhHUgS",
        "outputId": "4f31911c-8912-440a-9d81-48e1ec69315f"
      },
      "outputs": [
        {
          "data": {
            "application/vnd.google.colaboratory.intrinsic+json": {
              "summary": "{\n  \"name\": \"X\",\n  \"rows\": 23359,\n  \"fields\": [\n    {\n      \"column\": \"open\",\n      \"properties\": {\n        \"dtype\": \"number\",\n        \"std\": 1.0000214057131849,\n        \"min\": -1.0089738212007047,\n        \"max\": 4.003449070295221,\n        \"num_unique_values\": 719,\n        \"samples\": [\n          -0.669060805839363,\n          -0.7380786769787218,\n          0.6905912556060033\n        ],\n        \"semantic_type\": \"\",\n        \"description\": \"\"\n      }\n    },\n    {\n      \"column\": \"high\",\n      \"properties\": {\n        \"dtype\": \"number\",\n        \"std\": 1.0000214057131913,\n        \"min\": -1.0560045824557778,\n        \"max\": 4.006607083913329,\n        \"num_unique_values\": 723,\n        \"samples\": [\n          -0.9208875819006562,\n          -0.9140462147839414,\n          -0.7276189608534572\n        ],\n        \"semantic_type\": \"\",\n        \"description\": \"\"\n      }\n    },\n    {\n      \"column\": \"low\",\n      \"properties\": {\n        \"dtype\": \"number\",\n        \"std\": 1.000021405713191,\n        \"min\": -1.0462819879438308,\n        \"max\": 4.013732275753233,\n        \"num_unique_values\": 719,\n        \"samples\": [\n          -0.714763812046437,\n          -0.8159640973203782,\n          0.6985505167792945\n        ],\n        \"semantic_type\": \"\",\n        \"description\": \"\"\n      }\n    },\n    {\n      \"column\": \"close\",\n      \"properties\": {\n        \"dtype\": \"number\",\n        \"std\": 1.0000214057131904,\n        \"min\": -1.0094186290128466,\n        \"max\": 4.011707901116784,\n        \"num_unique_values\": 720,\n        \"samples\": [\n          0.3054737623941215,\n          -0.8781021746804819,\n          0.4782585707261804\n        ],\n        \"semantic_type\": \"\",\n        \"description\": \"\"\n      }\n    },\n    {\n      \"column\": \"DifPriceCurrentage\",\n      \"properties\": {\n        \"dtype\": \"number\",\n        \"std\": 1.0000214057132295,\n        \"min\": -2.8032866840381607,\n        \"max\": 2.843540798877897,\n        \"num_unique_values\": 2472,\n        \"samples\": [\n          -1.0420217504624782,\n          -2.341147018532947,\n          2.229765986527325\n        ],\n        \"semantic_type\": \"\",\n        \"description\": \"\"\n      }\n    },\n    {\n      \"column\": \"DifPricePreviousage\",\n      \"properties\": {\n        \"dtype\": \"number\",\n        \"std\": 1.0000214057131507,\n        \"min\": -2.8341127446880345,\n        \"max\": 2.783637423590016,\n        \"num_unique_values\": 2442,\n        \"samples\": [\n          2.6624108383010343,\n          -0.7532548085096281,\n          0.7748714209687867\n        ],\n        \"semantic_type\": \"\",\n        \"description\": \"\"\n      }\n    },\n    {\n      \"column\": \"Volatile\",\n      \"properties\": {\n        \"dtype\": \"number\",\n        \"std\": 1.0000214057131929,\n        \"min\": -0.9785083991953654,\n        \"max\": 3.9753944956892324,\n        \"num_unique_values\": 73,\n        \"samples\": [\n          2.599310358221288,\n          2.654353723720006,\n          0.23244564177642513\n        ],\n        \"semantic_type\": \"\",\n        \"description\": \"\"\n      }\n    },\n    {\n      \"column\": \"Sector\",\n      \"properties\": {\n        \"dtype\": \"number\",\n        \"std\": 3,\n        \"min\": 0,\n        \"max\": 10,\n        \"num_unique_values\": 11,\n        \"samples\": [\n          2,\n          1,\n          9\n        ],\n        \"semantic_type\": \"\",\n        \"description\": \"\"\n      }\n    }\n  ]\n}",
              "type": "dataframe",
              "variable_name": "X"
            },
            "text/html": [
              "\n",
              "  <div id=\"df-287cb2fe-8c71-47b0-a70b-7542123e76c2\" class=\"colab-df-container\">\n",
              "    <div>\n",
              "<style scoped>\n",
              "    .dataframe tbody tr th:only-of-type {\n",
              "        vertical-align: middle;\n",
              "    }\n",
              "\n",
              "    .dataframe tbody tr th {\n",
              "        vertical-align: top;\n",
              "    }\n",
              "\n",
              "    .dataframe thead th {\n",
              "        text-align: right;\n",
              "    }\n",
              "</style>\n",
              "<table border=\"1\" class=\"dataframe\">\n",
              "  <thead>\n",
              "    <tr style=\"text-align: right;\">\n",
              "      <th></th>\n",
              "      <th>open</th>\n",
              "      <th>high</th>\n",
              "      <th>low</th>\n",
              "      <th>close</th>\n",
              "      <th>DifPriceCurrentage</th>\n",
              "      <th>DifPricePreviousage</th>\n",
              "      <th>Volatile</th>\n",
              "      <th>Sector</th>\n",
              "    </tr>\n",
              "  </thead>\n",
              "  <tbody>\n",
              "    <tr>\n",
              "      <th>0</th>\n",
              "      <td>3.641105</td>\n",
              "      <td>3.630332</td>\n",
              "      <td>3.594972</td>\n",
              "      <td>3.579746</td>\n",
              "      <td>-0.613526</td>\n",
              "      <td>-0.940195</td>\n",
              "      <td>3.424961</td>\n",
              "      <td>1</td>\n",
              "    </tr>\n",
              "    <tr>\n",
              "      <th>1</th>\n",
              "      <td>-0.575887</td>\n",
              "      <td>-0.573688</td>\n",
              "      <td>-0.568198</td>\n",
              "      <td>-0.570545</td>\n",
              "      <td>0.574374</td>\n",
              "      <td>0.534796</td>\n",
              "      <td>-0.538161</td>\n",
              "      <td>6</td>\n",
              "    </tr>\n",
              "    <tr>\n",
              "      <th>2</th>\n",
              "      <td>0.638828</td>\n",
              "      <td>0.654337</td>\n",
              "      <td>0.646206</td>\n",
              "      <td>0.651043</td>\n",
              "      <td>0.458338</td>\n",
              "      <td>1.619357</td>\n",
              "      <td>0.672793</td>\n",
              "      <td>6</td>\n",
              "    </tr>\n",
              "    <tr>\n",
              "      <th>3</th>\n",
              "      <td>0.431774</td>\n",
              "      <td>0.457648</td>\n",
              "      <td>0.436826</td>\n",
              "      <td>0.417784</td>\n",
              "      <td>-0.446968</td>\n",
              "      <td>-0.554323</td>\n",
              "      <td>0.948009</td>\n",
              "      <td>6</td>\n",
              "    </tr>\n",
              "    <tr>\n",
              "      <th>4</th>\n",
              "      <td>0.267857</td>\n",
              "      <td>0.337924</td>\n",
              "      <td>0.262342</td>\n",
              "      <td>0.288195</td>\n",
              "      <td>0.889609</td>\n",
              "      <td>-2.033802</td>\n",
              "      <td>2.599310</td>\n",
              "      <td>6</td>\n",
              "    </tr>\n",
              "  </tbody>\n",
              "</table>\n",
              "</div>\n",
              "    <div class=\"colab-df-buttons\">\n",
              "\n",
              "  <div class=\"colab-df-container\">\n",
              "    <button class=\"colab-df-convert\" onclick=\"convertToInteractive('df-287cb2fe-8c71-47b0-a70b-7542123e76c2')\"\n",
              "            title=\"Convert this dataframe to an interactive table.\"\n",
              "            style=\"display:none;\">\n",
              "\n",
              "  <svg xmlns=\"http://www.w3.org/2000/svg\" height=\"24px\" viewBox=\"0 -960 960 960\">\n",
              "    <path d=\"M120-120v-720h720v720H120Zm60-500h600v-160H180v160Zm220 220h160v-160H400v160Zm0 220h160v-160H400v160ZM180-400h160v-160H180v160Zm440 0h160v-160H620v160ZM180-180h160v-160H180v160Zm440 0h160v-160H620v160Z\"/>\n",
              "  </svg>\n",
              "    </button>\n",
              "\n",
              "  <style>\n",
              "    .colab-df-container {\n",
              "      display:flex;\n",
              "      gap: 12px;\n",
              "    }\n",
              "\n",
              "    .colab-df-convert {\n",
              "      background-color: #E8F0FE;\n",
              "      border: none;\n",
              "      border-radius: 50%;\n",
              "      cursor: pointer;\n",
              "      display: none;\n",
              "      fill: #1967D2;\n",
              "      height: 32px;\n",
              "      padding: 0 0 0 0;\n",
              "      width: 32px;\n",
              "    }\n",
              "\n",
              "    .colab-df-convert:hover {\n",
              "      background-color: #E2EBFA;\n",
              "      box-shadow: 0px 1px 2px rgba(60, 64, 67, 0.3), 0px 1px 3px 1px rgba(60, 64, 67, 0.15);\n",
              "      fill: #174EA6;\n",
              "    }\n",
              "\n",
              "    .colab-df-buttons div {\n",
              "      margin-bottom: 4px;\n",
              "    }\n",
              "\n",
              "    [theme=dark] .colab-df-convert {\n",
              "      background-color: #3B4455;\n",
              "      fill: #D2E3FC;\n",
              "    }\n",
              "\n",
              "    [theme=dark] .colab-df-convert:hover {\n",
              "      background-color: #434B5C;\n",
              "      box-shadow: 0px 1px 3px 1px rgba(0, 0, 0, 0.15);\n",
              "      filter: drop-shadow(0px 1px 2px rgba(0, 0, 0, 0.3));\n",
              "      fill: #FFFFFF;\n",
              "    }\n",
              "  </style>\n",
              "\n",
              "    <script>\n",
              "      const buttonEl =\n",
              "        document.querySelector('#df-287cb2fe-8c71-47b0-a70b-7542123e76c2 button.colab-df-convert');\n",
              "      buttonEl.style.display =\n",
              "        google.colab.kernel.accessAllowed ? 'block' : 'none';\n",
              "\n",
              "      async function convertToInteractive(key) {\n",
              "        const element = document.querySelector('#df-287cb2fe-8c71-47b0-a70b-7542123e76c2');\n",
              "        const dataTable =\n",
              "          await google.colab.kernel.invokeFunction('convertToInteractive',\n",
              "                                                    [key], {});\n",
              "        if (!dataTable) return;\n",
              "\n",
              "        const docLinkHtml = 'Like what you see? Visit the ' +\n",
              "          '<a target=\"_blank\" href=https://colab.research.google.com/notebooks/data_table.ipynb>data table notebook</a>'\n",
              "          + ' to learn more about interactive tables.';\n",
              "        element.innerHTML = '';\n",
              "        dataTable['output_type'] = 'display_data';\n",
              "        await google.colab.output.renderOutput(dataTable, element);\n",
              "        const docLink = document.createElement('div');\n",
              "        docLink.innerHTML = docLinkHtml;\n",
              "        element.appendChild(docLink);\n",
              "      }\n",
              "    </script>\n",
              "  </div>\n",
              "\n",
              "\n",
              "<div id=\"df-e6eafaf8-978a-4d5d-93b0-ce8f5d055c5c\">\n",
              "  <button class=\"colab-df-quickchart\" onclick=\"quickchart('df-e6eafaf8-978a-4d5d-93b0-ce8f5d055c5c')\"\n",
              "            title=\"Suggest charts\"\n",
              "            style=\"display:none;\">\n",
              "\n",
              "<svg xmlns=\"http://www.w3.org/2000/svg\" height=\"24px\"viewBox=\"0 0 24 24\"\n",
              "     width=\"24px\">\n",
              "    <g>\n",
              "        <path d=\"M19 3H5c-1.1 0-2 .9-2 2v14c0 1.1.9 2 2 2h14c1.1 0 2-.9 2-2V5c0-1.1-.9-2-2-2zM9 17H7v-7h2v7zm4 0h-2V7h2v10zm4 0h-2v-4h2v4z\"/>\n",
              "    </g>\n",
              "</svg>\n",
              "  </button>\n",
              "\n",
              "<style>\n",
              "  .colab-df-quickchart {\n",
              "      --bg-color: #E8F0FE;\n",
              "      --fill-color: #1967D2;\n",
              "      --hover-bg-color: #E2EBFA;\n",
              "      --hover-fill-color: #174EA6;\n",
              "      --disabled-fill-color: #AAA;\n",
              "      --disabled-bg-color: #DDD;\n",
              "  }\n",
              "\n",
              "  [theme=dark] .colab-df-quickchart {\n",
              "      --bg-color: #3B4455;\n",
              "      --fill-color: #D2E3FC;\n",
              "      --hover-bg-color: #434B5C;\n",
              "      --hover-fill-color: #FFFFFF;\n",
              "      --disabled-bg-color: #3B4455;\n",
              "      --disabled-fill-color: #666;\n",
              "  }\n",
              "\n",
              "  .colab-df-quickchart {\n",
              "    background-color: var(--bg-color);\n",
              "    border: none;\n",
              "    border-radius: 50%;\n",
              "    cursor: pointer;\n",
              "    display: none;\n",
              "    fill: var(--fill-color);\n",
              "    height: 32px;\n",
              "    padding: 0;\n",
              "    width: 32px;\n",
              "  }\n",
              "\n",
              "  .colab-df-quickchart:hover {\n",
              "    background-color: var(--hover-bg-color);\n",
              "    box-shadow: 0 1px 2px rgba(60, 64, 67, 0.3), 0 1px 3px 1px rgba(60, 64, 67, 0.15);\n",
              "    fill: var(--button-hover-fill-color);\n",
              "  }\n",
              "\n",
              "  .colab-df-quickchart-complete:disabled,\n",
              "  .colab-df-quickchart-complete:disabled:hover {\n",
              "    background-color: var(--disabled-bg-color);\n",
              "    fill: var(--disabled-fill-color);\n",
              "    box-shadow: none;\n",
              "  }\n",
              "\n",
              "  .colab-df-spinner {\n",
              "    border: 2px solid var(--fill-color);\n",
              "    border-color: transparent;\n",
              "    border-bottom-color: var(--fill-color);\n",
              "    animation:\n",
              "      spin 1s steps(1) infinite;\n",
              "  }\n",
              "\n",
              "  @keyframes spin {\n",
              "    0% {\n",
              "      border-color: transparent;\n",
              "      border-bottom-color: var(--fill-color);\n",
              "      border-left-color: var(--fill-color);\n",
              "    }\n",
              "    20% {\n",
              "      border-color: transparent;\n",
              "      border-left-color: var(--fill-color);\n",
              "      border-top-color: var(--fill-color);\n",
              "    }\n",
              "    30% {\n",
              "      border-color: transparent;\n",
              "      border-left-color: var(--fill-color);\n",
              "      border-top-color: var(--fill-color);\n",
              "      border-right-color: var(--fill-color);\n",
              "    }\n",
              "    40% {\n",
              "      border-color: transparent;\n",
              "      border-right-color: var(--fill-color);\n",
              "      border-top-color: var(--fill-color);\n",
              "    }\n",
              "    60% {\n",
              "      border-color: transparent;\n",
              "      border-right-color: var(--fill-color);\n",
              "    }\n",
              "    80% {\n",
              "      border-color: transparent;\n",
              "      border-right-color: var(--fill-color);\n",
              "      border-bottom-color: var(--fill-color);\n",
              "    }\n",
              "    90% {\n",
              "      border-color: transparent;\n",
              "      border-bottom-color: var(--fill-color);\n",
              "    }\n",
              "  }\n",
              "</style>\n",
              "\n",
              "  <script>\n",
              "    async function quickchart(key) {\n",
              "      const quickchartButtonEl =\n",
              "        document.querySelector('#' + key + ' button');\n",
              "      quickchartButtonEl.disabled = true;  // To prevent multiple clicks.\n",
              "      quickchartButtonEl.classList.add('colab-df-spinner');\n",
              "      try {\n",
              "        const charts = await google.colab.kernel.invokeFunction(\n",
              "            'suggestCharts', [key], {});\n",
              "      } catch (error) {\n",
              "        console.error('Error during call to suggestCharts:', error);\n",
              "      }\n",
              "      quickchartButtonEl.classList.remove('colab-df-spinner');\n",
              "      quickchartButtonEl.classList.add('colab-df-quickchart-complete');\n",
              "    }\n",
              "    (() => {\n",
              "      let quickchartButtonEl =\n",
              "        document.querySelector('#df-e6eafaf8-978a-4d5d-93b0-ce8f5d055c5c button');\n",
              "      quickchartButtonEl.style.display =\n",
              "        google.colab.kernel.accessAllowed ? 'block' : 'none';\n",
              "    })();\n",
              "  </script>\n",
              "</div>\n",
              "\n",
              "    </div>\n",
              "  </div>\n"
            ],
            "text/plain": [
              "       open      high       low     close  DifPriceCurrentage  \\\n",
              "0  3.641105  3.630332  3.594972  3.579746           -0.613526   \n",
              "1 -0.575887 -0.573688 -0.568198 -0.570545            0.574374   \n",
              "2  0.638828  0.654337  0.646206  0.651043            0.458338   \n",
              "3  0.431774  0.457648  0.436826  0.417784           -0.446968   \n",
              "4  0.267857  0.337924  0.262342  0.288195            0.889609   \n",
              "\n",
              "   DifPricePreviousage  Volatile  Sector  \n",
              "0            -0.940195  3.424961       1  \n",
              "1             0.534796 -0.538161       6  \n",
              "2             1.619357  0.672793       6  \n",
              "3            -0.554323  0.948009       6  \n",
              "4            -2.033802  2.599310       6  "
            ]
          },
          "execution_count": 6,
          "metadata": {},
          "output_type": "execute_result"
        }
      ],
      "source": [
        "from sklearn.preprocessing import StandardScaler, LabelEncoder\n",
        "\n",
        "num_feature = X.select_dtypes(include=['int64', 'float64']).columns\n",
        "cat_feature = X.select_dtypes(include=['object']).columns\n",
        "\n",
        "# Standarization\n",
        "pt = StandardScaler()\n",
        "X[num_feature] = pt.fit_transform(X[num_feature])\n",
        "\n",
        "# Label Encoding\n",
        "le = LabelEncoder()\n",
        "for col in cat_feature:\n",
        "    X[col] = le.fit_transform(X[col])\n",
        "\n",
        "X.head()"
      ]
    },
    {
      "cell_type": "code",
      "execution_count": null,
      "metadata": {
        "colab": {
          "base_uri": "https://localhost:8080/"
        },
        "id": "OubAW-7ONKVj",
        "outputId": "235d278e-0911-4c2b-8e83-2a3e157792c6"
      },
      "outputs": [
        {
          "name": "stdout",
          "output_type": "stream",
          "text": [
            "Jumlah data:  23359\n",
            "Jumlah data latih:  18687\n",
            "Jumlah data uji:  4672\n"
          ]
        }
      ],
      "source": [
        "from sklearn.model_selection import train_test_split\n",
        "X_train, X_test, y_train, y_test = train_test_split(X, y, test_size=0.2, random_state=42)\n",
        "\n",
        "# mengetahui jumlah bais pada data latih dan data uji\n",
        "print(\"Jumlah data: \", len(X))\n",
        "print(\"Jumlah data latih: \", len(X_train))\n",
        "print(\"Jumlah data uji: \", len(X_test))"
      ]
    },
    {
      "cell_type": "code",
      "execution_count": null,
      "metadata": {
        "colab": {
          "base_uri": "https://localhost:8080/",
          "height": 241
        },
        "id": "EBSvQJzqJE9C",
        "outputId": "a5400ab4-3a39-46d6-d984-a67bf0bc4bf7"
      },
      "outputs": [
        {
          "data": {
            "text/html": [
              "<div>\n",
              "<style scoped>\n",
              "    .dataframe tbody tr th:only-of-type {\n",
              "        vertical-align: middle;\n",
              "    }\n",
              "\n",
              "    .dataframe tbody tr th {\n",
              "        vertical-align: top;\n",
              "    }\n",
              "\n",
              "    .dataframe thead th {\n",
              "        text-align: right;\n",
              "    }\n",
              "</style>\n",
              "<table border=\"1\" class=\"dataframe\">\n",
              "  <thead>\n",
              "    <tr style=\"text-align: right;\">\n",
              "      <th></th>\n",
              "      <th>count</th>\n",
              "    </tr>\n",
              "    <tr>\n",
              "      <th>Cluster</th>\n",
              "      <th></th>\n",
              "    </tr>\n",
              "  </thead>\n",
              "  <tbody>\n",
              "    <tr>\n",
              "      <th>Stable-Positive</th>\n",
              "      <td>7765</td>\n",
              "    </tr>\n",
              "    <tr>\n",
              "      <th>Downward-Trend</th>\n",
              "      <td>5649</td>\n",
              "    </tr>\n",
              "    <tr>\n",
              "      <th>Mildloss-ModerateVolatile</th>\n",
              "      <td>3534</td>\n",
              "    </tr>\n",
              "    <tr>\n",
              "      <th>High-Volatility</th>\n",
              "      <td>1739</td>\n",
              "    </tr>\n",
              "  </tbody>\n",
              "</table>\n",
              "</div><br><label><b>dtype:</b> int64</label>"
            ],
            "text/plain": [
              "Cluster\n",
              "Stable-Positive              7765\n",
              "Downward-Trend               5649\n",
              "Mildloss-ModerateVolatile    3534\n",
              "High-Volatility              1739\n",
              "Name: count, dtype: int64"
            ]
          },
          "execution_count": 8,
          "metadata": {},
          "output_type": "execute_result"
        }
      ],
      "source": [
        "# Ukuran label data latih\n",
        "y_train.value_counts()"
      ]
    },
    {
      "cell_type": "code",
      "execution_count": null,
      "metadata": {
        "colab": {
          "base_uri": "https://localhost:8080/",
          "height": 241
        },
        "id": "2LNct3-FJSWR",
        "outputId": "a63023be-634b-48c2-b7cd-edd04646106f"
      },
      "outputs": [
        {
          "data": {
            "text/html": [
              "<div>\n",
              "<style scoped>\n",
              "    .dataframe tbody tr th:only-of-type {\n",
              "        vertical-align: middle;\n",
              "    }\n",
              "\n",
              "    .dataframe tbody tr th {\n",
              "        vertical-align: top;\n",
              "    }\n",
              "\n",
              "    .dataframe thead th {\n",
              "        text-align: right;\n",
              "    }\n",
              "</style>\n",
              "<table border=\"1\" class=\"dataframe\">\n",
              "  <thead>\n",
              "    <tr style=\"text-align: right;\">\n",
              "      <th></th>\n",
              "      <th>count</th>\n",
              "    </tr>\n",
              "    <tr>\n",
              "      <th>Cluster</th>\n",
              "      <th></th>\n",
              "    </tr>\n",
              "  </thead>\n",
              "  <tbody>\n",
              "    <tr>\n",
              "      <th>Stable-Positive</th>\n",
              "      <td>1918</td>\n",
              "    </tr>\n",
              "    <tr>\n",
              "      <th>Downward-Trend</th>\n",
              "      <td>1428</td>\n",
              "    </tr>\n",
              "    <tr>\n",
              "      <th>Mildloss-ModerateVolatile</th>\n",
              "      <td>891</td>\n",
              "    </tr>\n",
              "    <tr>\n",
              "      <th>High-Volatility</th>\n",
              "      <td>435</td>\n",
              "    </tr>\n",
              "  </tbody>\n",
              "</table>\n",
              "</div><br><label><b>dtype:</b> int64</label>"
            ],
            "text/plain": [
              "Cluster\n",
              "Stable-Positive              1918\n",
              "Downward-Trend               1428\n",
              "Mildloss-ModerateVolatile     891\n",
              "High-Volatility               435\n",
              "Name: count, dtype: int64"
            ]
          },
          "execution_count": 9,
          "metadata": {},
          "output_type": "execute_result"
        }
      ],
      "source": [
        "# Ukuran label data test\n",
        "y_test.value_counts()"
      ]
    },
    {
      "cell_type": "markdown",
      "metadata": {
        "id": "IVPbB03CMhTT"
      },
      "source": [
        "# **4. Membangun Model Klasifikasi**\n"
      ]
    },
    {
      "cell_type": "markdown",
      "metadata": {
        "id": "Ned1pL9zMmBK"
      },
      "source": [
        "## **a. Membangun Model Klasifikasi**"
      ]
    },
    {
      "cell_type": "markdown",
      "metadata": {
        "id": "WAWzPOE4Nkti"
      },
      "source": [
        "Setelah memilih algoritma klasifikasi yang sesuai, langkah selanjutnya adalah melatih model menggunakan data latih.\n",
        "\n",
        "Berikut adalah rekomendasi tahapannya.\n",
        "1. Pilih algoritma klasifikasi yang sesuai, seperti Logistic Regression, Decision Tree, Random Forest, atau K-Nearest Neighbors (KNN).\n",
        "2. Latih model menggunakan data latih."
      ]
    },
    {
      "cell_type": "code",
      "execution_count": null,
      "metadata": {
        "colab": {
          "base_uri": "https://localhost:8080/"
        },
        "id": "4JYxBe87NLDk",
        "outputId": "d8370678-b8f7-41fa-8077-167c841ca1be"
      },
      "outputs": [
        {
          "name": "stdout",
          "output_type": "stream",
          "text": [
            "Model training selesai.\n"
          ]
        }
      ],
      "source": [
        "knn = KNeighborsClassifier().fit(X_train, y_train)\n",
        "dt = DecisionTreeClassifier().fit(X_train, y_train)\n",
        "rf = RandomForestClassifier().fit(X_train, y_train)\n",
        "\n",
        "print(\"Model training selesai.\")"
      ]
    },
    {
      "cell_type": "markdown",
      "metadata": {
        "id": "seYoHNY3XU1y"
      },
      "source": [
        "Pada pemodelan kali ini menggunakan semua algoritma yang tersedia agar dapat membandingkan semua model pada kasus klasikasi multikelas"
      ]
    },
    {
      "cell_type": "markdown",
      "metadata": {
        "id": "ergzChZFEL-O"
      },
      "source": [
        "## **b. Evaluasi Model Klasifikasi**"
      ]
    },
    {
      "cell_type": "markdown",
      "metadata": {
        "id": "zOm68u-7NpLT"
      },
      "source": [
        "Berikut adalah **rekomendasi** tahapannya.\n",
        "1. Lakukan prediksi menggunakan data uji.\n",
        "2. Hitung metrik evaluasi seperti Accuracy dan F1-Score (Opsional: Precision dan Recall).\n",
        "3. Buat confusion matrix untuk melihat detail prediksi benar dan salah."
      ]
    },
    {
      "cell_type": "code",
      "execution_count": null,
      "metadata": {
        "colab": {
          "base_uri": "https://localhost:8080/"
        },
        "id": "tMq4QAssNLip",
        "outputId": "ebc4f1f1-1ddd-4f1d-e1f7-4d64d7b4dd10"
      },
      "outputs": [
        {
          "name": "stdout",
          "output_type": "stream",
          "text": [
            "                           precision    recall  f1-score   support\n",
            "\n",
            "           Downward-Trend       0.34      0.38      0.36      1428\n",
            "          High-Volatility       0.40      0.36      0.38       435\n",
            "Mildloss-ModerateVolatile       0.43      0.40      0.41       891\n",
            "          Stable-Positive       0.47      0.45      0.46      1918\n",
            "\n",
            "                 accuracy                           0.41      4672\n",
            "                macro avg       0.41      0.40      0.40      4672\n",
            "             weighted avg       0.42      0.41      0.41      4672\n",
            "\n"
          ]
        }
      ],
      "source": [
        "y_pred_knn = knn.predict(X_test)\n",
        "\n",
        "print(classification_report(y_test, y_pred_knn))"
      ]
    },
    {
      "cell_type": "code",
      "execution_count": null,
      "metadata": {
        "colab": {
          "base_uri": "https://localhost:8080/",
          "height": 559
        },
        "id": "Ong2BOKHsG10",
        "outputId": "471bdd6e-d9f8-4c5a-c86a-5652a0cd4a78"
      },
      "outputs": [
        {
          "data": {
            "text/plain": [
              "Text(70.72222222222221, 0.5, 'Actual')"
            ]
          },
          "execution_count": 12,
          "metadata": {},
          "output_type": "execute_result"
        },
        {
          "data": {
            "image/png": "[encoded data removed]",
            "text/plain": [
              "<Figure size 800x600 with 1 Axes>"
            ]
          },
          "metadata": {},
          "output_type": "display_data"
        }
      ],
      "source": [
        "cm_knn = confusion_matrix(y_test, y_pred_knn)\n",
        "\n",
        "plt.figure(figsize=(8, 6))\n",
        "sns.heatmap(cm_knn, annot=True, fmt='d', cmap='Blues', cbar=False)\n",
        "plt.xlabel('Predicted')\n",
        "plt.ylabel('Actual')"
      ]
    },
    {
      "cell_type": "code",
      "execution_count": null,
      "metadata": {
        "colab": {
          "base_uri": "https://localhost:8080/"
        },
        "id": "IjjiPCH7pLJf",
        "outputId": "7d696e36-1950-4b87-fc54-67f8647de5dc"
      },
      "outputs": [
        {
          "name": "stdout",
          "output_type": "stream",
          "text": [
            "                           precision    recall  f1-score   support\n",
            "\n",
            "           Downward-Trend       0.38      0.39      0.38      1428\n",
            "          High-Volatility       0.45      0.45      0.45       435\n",
            "Mildloss-ModerateVolatile       0.48      0.47      0.48       891\n",
            "          Stable-Positive       0.48      0.48      0.48      1918\n",
            "\n",
            "                 accuracy                           0.45      4672\n",
            "                macro avg       0.45      0.45      0.45      4672\n",
            "             weighted avg       0.45      0.45      0.45      4672\n",
            "\n"
          ]
        }
      ],
      "source": [
        "y_pred_dt = dt.predict(X_test)\n",
        "\n",
        "print(classification_report(y_test, y_pred_dt))"
      ]
    },
    {
      "cell_type": "code",
      "execution_count": null,
      "metadata": {
        "colab": {
          "base_uri": "https://localhost:8080/",
          "height": 539
        },
        "id": "k-UA7za1suYt",
        "outputId": "0913e5bc-565d-468e-9586-2ac46ca84b2f"
      },
      "outputs": [
        {
          "data": {
            "text/plain": [
              "<module 'matplotlib.pyplot' from '/usr/local/lib/python3.11/dist-packages/matplotlib/pyplot.py'>"
            ]
          },
          "execution_count": 14,
          "metadata": {},
          "output_type": "execute_result"
        },
        {
          "data": {
            "image/png": "[encoded data removed]",
            "text/plain": [
              "<Figure size 800x600 with 1 Axes>"
            ]
          },
          "metadata": {},
          "output_type": "display_data"
        }
      ],
      "source": [
        "cm_dt = confusion_matrix(y_test, y_pred_dt)\n",
        "\n",
        "plt.figure(figsize=(8, 6))\n",
        "sns.heatmap(cm_dt, annot=True, fmt='d', cmap='Blues', cbar=False)\n",
        "plt"
      ]
    },
    {
      "cell_type": "code",
      "execution_count": null,
      "metadata": {
        "colab": {
          "base_uri": "https://localhost:8080/"
        },
        "id": "JvoN-2DupXdZ",
        "outputId": "d510b5bf-318e-4966-d32d-17a9f5e126b2"
      },
      "outputs": [
        {
          "name": "stdout",
          "output_type": "stream",
          "text": [
            "                           precision    recall  f1-score   support\n",
            "\n",
            "           Downward-Trend       0.38      0.33      0.35      1428\n",
            "          High-Volatility       0.57      0.44      0.50       435\n",
            "Mildloss-ModerateVolatile       0.56      0.47      0.51       891\n",
            "          Stable-Positive       0.48      0.58      0.53      1918\n",
            "\n",
            "                 accuracy                           0.47      4672\n",
            "                macro avg       0.50      0.46      0.47      4672\n",
            "             weighted avg       0.47      0.47      0.47      4672\n",
            "\n"
          ]
        }
      ],
      "source": [
        "y_pred_rf = rf.predict(X_test)\n",
        "\n",
        "print(classification_report(y_test, y_pred_rf))"
      ]
    },
    {
      "cell_type": "code",
      "execution_count": null,
      "metadata": {
        "colab": {
          "base_uri": "https://localhost:8080/",
          "height": 539
        },
        "id": "o9XWOLLIs7JQ",
        "outputId": "9f1a748a-0164-4753-9996-523170aeb8fb"
      },
      "outputs": [
        {
          "data": {
            "text/plain": [
              "<Axes: >"
            ]
          },
          "execution_count": 16,
          "metadata": {},
          "output_type": "execute_result"
        },
        {
          "data": {
            "image/png": "[encoded data removed]",
            "text/plain": [
              "<Figure size 800x600 with 1 Axes>"
            ]
          },
          "metadata": {},
          "output_type": "display_data"
        }
      ],
      "source": [
        "cm_rf = confusion_matrix(y_test, y_pred_rf)\n",
        "\n",
        "plt.figure(figsize=(8, 6))\n",
        "sns.heatmap(cm_rf, annot=True, fmt='d', cmap='Blues', cbar=False)"
      ]
    },
    {
      "cell_type": "markdown",
      "metadata": {
        "id": "H4_9OwrsXZlz"
      },
      "source": [
        "Tulis hasil evaluasi algoritma yang digunakan, jika Anda menggunakan 2 algoritma, maka bandingkan hasilnya."
      ]
    },
    {
      "cell_type": "markdown",
      "metadata": {
        "id": "ph9yIYDXEPuB"
      },
      "source": [
        "## **c. Tuning Model Klasifikasi (Optional)**"
      ]
    },
    {
      "cell_type": "markdown",
      "metadata": {
        "id": "-Bikx3LINv5e"
      },
      "source": [
        "Gunakan GridSearchCV, RandomizedSearchCV, atau metode lainnya untuk mencari kombinasi hyperparameter terbaik"
      ]
    },
    {
      "cell_type": "markdown",
      "metadata": {
        "id": "0_Sc0tXdyIkC"
      },
      "source": [
        "### **KNN**"
      ]
    },
    {
      "cell_type": "code",
      "execution_count": 23,
      "metadata": {
        "colab": {
          "base_uri": "https://localhost:8080/"
        },
        "id": "winbFzb8NL95",
        "outputId": "5f149885-4c00-4c0f-dfb2-752b60a25ed6"
      },
      "outputs": [
        {
          "output_type": "stream",
          "name": "stdout",
          "text": [
            "Best Parameters:  {'metric': 'manhattan', 'n_neighbors': 19, 'weights': 'distance'}\n",
            "Best Score: 0.45\n",
            "Execution time:  23.410748958587646\n"
          ]
        }
      ],
      "source": [
        "from sklearn.model_selection import RandomizedSearchCV\n",
        "from scipy.stats import randint\n",
        "import time\n",
        "\n",
        "param_dist_knn = {\n",
        "    'n_neighbors': randint(1, 20),\n",
        "    'weights': ['uniform', 'distance'],\n",
        "    'metric': ['euclidean', 'manhattan']\n",
        "}\n",
        "\n",
        "knn = KNeighborsClassifier()\n",
        "random_search_knn = RandomizedSearchCV(\n",
        "    estimator=knn,\n",
        "    param_distributions=param_dist_knn,\n",
        "    n_iter=20,\n",
        "    cv=5,\n",
        "    scoring='accuracy',\n",
        "    random_state=11)\n",
        "\n",
        "start_time = time.time()\n",
        "random_search_knn.fit(X_train, y_train)\n",
        "\n",
        "print(\"Best Parameters: \", random_search_knn.best_params_)\n",
        "print(f\"Best Score: {random_search_knn.best_score_:.2f}\")\n",
        "print(\"Execution time: \", time.time() - start_time)"
      ]
    },
    {
      "cell_type": "markdown",
      "metadata": {
        "id": "WO30WPyyyYY6"
      },
      "source": [
        "### **Decision Tree**"
      ]
    },
    {
      "cell_type": "code",
      "execution_count": 24,
      "metadata": {
        "colab": {
          "base_uri": "https://localhost:8080/"
        },
        "id": "ExnGo23t5Fv-",
        "outputId": "20b0a698-412d-464a-ffae-9aa9bd523324"
      },
      "outputs": [
        {
          "output_type": "stream",
          "name": "stdout",
          "text": [
            "Best Parameters:  {'criterion': 'gini', 'max_depth': 16, 'max_features': None, 'min_samples_leaf': 1, 'min_samples_split': 14}\n",
            "Best Score: 0.46\n",
            "Execution time:  8.273469924926758\n"
          ]
        }
      ],
      "source": [
        "param_dist_dt = {\n",
        "    'max_depth': randint(1, 20),\n",
        "    'min_samples_split': randint(2, 20),\n",
        "    'min_samples_leaf': randint(1, 20),\n",
        "    'criterion': ['gini', 'entropy'],\n",
        "    'max_features': ['sqrt', 'log2', None]\n",
        "}\n",
        "\n",
        "\n",
        "dt = DecisionTreeClassifier()\n",
        "random_search_dt = RandomizedSearchCV(\n",
        "    estimator=dt,\n",
        "    param_distributions=param_dist_dt,\n",
        "    n_iter=20,\n",
        "    cv=5,\n",
        "    scoring='accuracy',\n",
        "    random_state=11)\n",
        "\n",
        "start_time = time.time()\n",
        "random_search_dt.fit(X_train, y_train)\n",
        "\n",
        "print(\"Best Parameters: \", random_search_dt.best_params_)\n",
        "print(f\"Best Score: {random_search_dt.best_score_:.2f}\")\n",
        "print(\"Execution time: \", time.time() - start_time)"
      ]
    },
    {
      "cell_type": "markdown",
      "metadata": {
        "id": "wmio-Apryiv5"
      },
      "source": [
        "### **Random Forest**"
      ]
    },
    {
      "cell_type": "code",
      "execution_count": 25,
      "metadata": {
        "colab": {
          "base_uri": "https://localhost:8080/"
        },
        "id": "i9-rov4s7PTq",
        "outputId": "2d8ae371-19ac-494c-a886-b9fea42514a5"
      },
      "outputs": [
        {
          "output_type": "stream",
          "name": "stdout",
          "text": [
            "Best Parameters:  {'bootstrap': True, 'criterion': 'entropy', 'max_depth': 19, 'max_features': None, 'min_samples_leaf': 1, 'min_samples_split': 17, 'n_estimators': 106}\n",
            "Best Score: 0.49\n",
            "Execution time:  427.2418785095215\n"
          ]
        }
      ],
      "source": [
        "param_dist_rf = {\n",
        "    'n_estimators': randint(10, 200),\n",
        "    'max_depth': randint(1, 20),\n",
        "    'min_samples_split': randint(2, 20),\n",
        "    'min_samples_leaf': randint(1, 20),\n",
        "    'max_features': ['sqrt', 'log2', None],\n",
        "    'bootstrap': [True, False],\n",
        "    'criterion': ['gini', 'entropy']\n",
        "}\n",
        "\n",
        "rf = RandomForestClassifier()\n",
        "random_search_rf = RandomizedSearchCV(\n",
        "    estimator=rf,\n",
        "    param_distributions=param_dist_rf,\n",
        "    n_iter=20,\n",
        "    cv=5,\n",
        "    scoring='accuracy',\n",
        "    random_state=11)\n",
        "\n",
        "start_time = time.time()\n",
        "random_search_rf.fit(X_train, y_train)\n",
        "\n",
        "print(\"Best Parameters: \", random_search_rf.best_params_)\n",
        "print(f\"Best Score: {random_search_rf.best_score_:.2f}\")\n",
        "print(\"Execution time: \", time.time() - start_time)"
      ]
    },
    {
      "cell_type": "markdown",
      "metadata": {
        "id": "hE7pqlEPEYzI"
      },
      "source": [
        "## **d. Evaluasi Model Klasifikasi setelah Tuning (Optional)**"
      ]
    },
    {
      "cell_type": "markdown",
      "metadata": {
        "id": "feaPESoeN0zz"
      },
      "source": [
        "Berikut adalah rekomendasi tahapannya.\n",
        "1. Gunakan model dengan hyperparameter terbaik.\n",
        "2. Hitung ulang metrik evaluasi untuk melihat apakah ada peningkatan performa."
      ]
    },
    {
      "cell_type": "markdown",
      "metadata": {
        "id": "YzlzPglh_EeG"
      },
      "source": [
        "### **KNN**"
      ]
    },
    {
      "cell_type": "code",
      "execution_count": 31,
      "metadata": {
        "colab": {
          "base_uri": "https://localhost:8080/"
        },
        "id": "HTXZRvEeNMb1",
        "outputId": "305942c6-0eb8-4d83-f8f5-c665ef265d26"
      },
      "outputs": [
        {
          "output_type": "stream",
          "name": "stdout",
          "text": [
            "KNN Before Tuning\n",
            "\n",
            "                           precision    recall  f1-score   support\n",
            "\n",
            "           Downward-Trend       0.34      0.38      0.36      1428\n",
            "          High-Volatility       0.40      0.36      0.38       435\n",
            "Mildloss-ModerateVolatile       0.43      0.40      0.41       891\n",
            "          Stable-Positive       0.47      0.45      0.46      1918\n",
            "\n",
            "                 accuracy                           0.41      4672\n",
            "                macro avg       0.41      0.40      0.40      4672\n",
            "             weighted avg       0.42      0.41      0.41      4672\n",
            "\n",
            "\n",
            "KNN After Tuning\n",
            "\n",
            "                           precision    recall  f1-score   support\n",
            "\n",
            "           Downward-Trend       0.35      0.29      0.32      1428\n",
            "          High-Volatility       0.52      0.37      0.43       435\n",
            "Mildloss-ModerateVolatile       0.49      0.41      0.45       891\n",
            "          Stable-Positive       0.46      0.58      0.51      1918\n",
            "\n",
            "                 accuracy                           0.44      4672\n",
            "                macro avg       0.45      0.41      0.43      4672\n",
            "             weighted avg       0.44      0.44      0.43      4672\n",
            "\n"
          ]
        }
      ],
      "source": [
        "knn_tuned = KNeighborsClassifier(\n",
        "    n_neighbors=19,\n",
        "    weights='distance',\n",
        "    metric='manhattan')\n",
        "knn_tuned.fit(X_train, y_train)\n",
        "y_pred_knn_tuned = knn_tuned.predict(X_test)\n",
        "\n",
        "print(\"KNN Before Tuning\\n\")\n",
        "print(classification_report(y_test, y_pred_knn))\n",
        "print(\"\\nKNN After Tuning\\n\")\n",
        "print(classification_report(y_test, y_pred_knn_tuned))"
      ]
    },
    {
      "cell_type": "markdown",
      "metadata": {
        "id": "iYmGGilq_KKI"
      },
      "source": [
        "### **Decision Tree**"
      ]
    },
    {
      "cell_type": "code",
      "execution_count": 32,
      "metadata": {
        "colab": {
          "base_uri": "https://localhost:8080/"
        },
        "id": "5N1-WVFj_ClL",
        "outputId": "6bdbcb82-9e43-481c-b0d0-8a8ce286d04c"
      },
      "outputs": [
        {
          "output_type": "stream",
          "name": "stdout",
          "text": [
            "Decision Tree Before Tuning\n",
            "\n",
            "                           precision    recall  f1-score   support\n",
            "\n",
            "           Downward-Trend       0.38      0.39      0.38      1428\n",
            "          High-Volatility       0.45      0.45      0.45       435\n",
            "Mildloss-ModerateVolatile       0.48      0.47      0.48       891\n",
            "          Stable-Positive       0.48      0.48      0.48      1918\n",
            "\n",
            "                 accuracy                           0.45      4672\n",
            "                macro avg       0.45      0.45      0.45      4672\n",
            "             weighted avg       0.45      0.45      0.45      4672\n",
            "\n",
            "\n",
            "Decision Tree After Tuning\n",
            "\n",
            "                           precision    recall  f1-score   support\n",
            "\n",
            "           Downward-Trend       0.38      0.31      0.34      1428\n",
            "          High-Volatility       0.52      0.49      0.51       435\n",
            "Mildloss-ModerateVolatile       0.51      0.48      0.49       891\n",
            "          Stable-Positive       0.49      0.57      0.53      1918\n",
            "\n",
            "                 accuracy                           0.47      4672\n",
            "                macro avg       0.47      0.46      0.47      4672\n",
            "             weighted avg       0.46      0.47      0.46      4672\n",
            "\n"
          ]
        }
      ],
      "source": [
        "dt_tuned = DecisionTreeClassifier(\n",
        "    criterion='gini',\n",
        "    max_depth=16,\n",
        "    max_features=None,\n",
        "    min_samples_leaf=1,\n",
        "    min_samples_split=14,\n",
        "    random_state=42)\n",
        "dt_tuned.fit(X_train, y_train)\n",
        "y_pred_dt_tuned = dt_tuned.predict(X_test)\n",
        "\n",
        "print(\"Decision Tree Before Tuning\\n\")\n",
        "print(classification_report(y_test, y_pred_dt))\n",
        "print(\"\\nDecision Tree After Tuning\\n\")\n",
        "print(classification_report(y_test, y_pred_dt_tuned))"
      ]
    },
    {
      "cell_type": "markdown",
      "metadata": {
        "id": "6QOvIXcrAFlR"
      },
      "source": [
        "### **Random Forest**"
      ]
    },
    {
      "cell_type": "code",
      "execution_count": 33,
      "metadata": {
        "colab": {
          "base_uri": "https://localhost:8080/"
        },
        "id": "vbmhk4VcALP-",
        "outputId": "4ada04f4-e713-42b7-aaa4-0a6161051733"
      },
      "outputs": [
        {
          "output_type": "stream",
          "name": "stdout",
          "text": [
            "Random Forest Before Tuning\n",
            "\n",
            "                           precision    recall  f1-score   support\n",
            "\n",
            "           Downward-Trend       0.38      0.33      0.35      1428\n",
            "          High-Volatility       0.57      0.44      0.50       435\n",
            "Mildloss-ModerateVolatile       0.56      0.47      0.51       891\n",
            "          Stable-Positive       0.48      0.58      0.53      1918\n",
            "\n",
            "                 accuracy                           0.47      4672\n",
            "                macro avg       0.50      0.46      0.47      4672\n",
            "             weighted avg       0.47      0.47      0.47      4672\n",
            "\n",
            "\n",
            "Random Forest After Tuning\n",
            "\n",
            "                           precision    recall  f1-score   support\n",
            "\n",
            "           Downward-Trend       0.39      0.22      0.28      1428\n",
            "          High-Volatility       0.62      0.43      0.51       435\n",
            "Mildloss-ModerateVolatile       0.56      0.49      0.52       891\n",
            "          Stable-Positive       0.48      0.70      0.57      1918\n",
            "\n",
            "                 accuracy                           0.49      4672\n",
            "                macro avg       0.51      0.46      0.47      4672\n",
            "             weighted avg       0.48      0.49      0.47      4672\n",
            "\n"
          ]
        }
      ],
      "source": [
        "rf_tuned = RandomForestClassifier(\n",
        "    bootstrap=False,\n",
        "    criterion='entropy',\n",
        "    max_depth=17,\n",
        "    max_features='log2',\n",
        "    min_samples_leaf=14,\n",
        "    min_samples_split=14,\n",
        "    n_estimators=171,\n",
        "    random_state=42\n",
        ")\n",
        "\n",
        "rf_tuned.fit(X_train, y_train)\n",
        "y_pred_rf_tuned = rf_tuned.predict(X_test)\n",
        "\n",
        "print(\"Random Forest Before Tuning\\n\")\n",
        "print(classification_report(y_test, y_pred_rf))\n",
        "print(\"\\nRandom Forest After Tuning\\n\")\n",
        "print(classification_report(y_test, y_pred_rf_tuned))"
      ]
    },
    {
      "cell_type": "markdown",
      "metadata": {
        "id": "ZRsOdm4uEgAW"
      },
      "source": [
        "## **e. Analisis Hasil Evaluasi Model Klasifikasi**"
      ]
    },
    {
      "cell_type": "markdown",
      "metadata": {
        "id": "Hm3BhSi6N4_l"
      },
      "source": [
        "Berikut adalah analisis hasil evaluasi setelah Hyperparameter Tuning\n",
        "1. Secara umum semua metrik pada Confusion Metrics menunjukkan peningkatan setelah Hyperparameter Tuning, namun pada kelas Downward_Trend metrik recall mengalami penurunan pada semua model setelah Hyperparameter tuning\n",
        "2. Identifikasi kelemahan model, seperti:\n",
        "  - Precision atau Recall tergolong rendah pada kelas Downward-Trend dibanding kelas lain\n",
        "  - Semua model masih belum mampu menangkap pola dalam model dengan indikasi accuracy masih <50%\n",
        "3. Model yang paling optimal yang dapat digunakan ialah model Random Forest dengan accuracy yang mendekati 50%. Namun, terdapat beberapa masukan yang diberikan diantaranya melakukan feature_selection berdasarkan importance nya untuk mengurangi fitur yang saling berkorelasi secara signifikan"
      ]
    }
  ],
  "metadata": {
    "colab": {
      "provenance": []
    },
    "kernelspec": {
      "display_name": "Python 3",
      "name": "python3"
    },
    "language_info": {
      "name": "python"
    }
  },
  "nbformat": 4,
  "nbformat_minor": 0
}